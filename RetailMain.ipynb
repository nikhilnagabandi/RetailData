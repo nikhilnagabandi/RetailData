{
 "cells": [
  {
   "cell_type": "markdown",
   "id": "7a8de2a6",
   "metadata": {},
   "source": [
    "HEllo this is for data"
   ]
  }
 ],
 "metadata": {
  "language_info": {
   "name": "python"
  }
 },
 "nbformat": 4,
 "nbformat_minor": 5
}
